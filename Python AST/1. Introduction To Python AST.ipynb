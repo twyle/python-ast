{
 "cells": [
  {
   "cell_type": "code",
   "execution_count": 1,
   "id": "e1cb8c15",
   "metadata": {},
   "outputs": [],
   "source": [
    "import ast"
   ]
  },
  {
   "cell_type": "code",
   "execution_count": 2,
   "id": "be7ba718",
   "metadata": {},
   "outputs": [],
   "source": [
    "from typing import Any"
   ]
  },
  {
   "cell_type": "code",
   "execution_count": 3,
   "id": "4824f121",
   "metadata": {},
   "outputs": [],
   "source": [
    "def get_ast(code: str) -> Any:\n",
    "    print(ast.dump(ast.parse(code), indent=2))"
   ]
  },
  {
   "cell_type": "code",
   "execution_count": 5,
   "id": "b0b19ddb",
   "metadata": {},
   "outputs": [
    {
     "name": "stdout",
     "output_type": "stream",
     "text": [
      "Module(\n",
      "  body=[\n",
      "    Expr(\n",
      "      value=Compare(\n",
      "        left=Name(id='a', ctx=Load()),\n",
      "        ops=[\n",
      "          Lt(),\n",
      "          Gt(),\n",
      "          Gt()],\n",
      "        comparators=[\n",
      "          Name(id='b', ctx=Load()),\n",
      "          Name(id='c', ctx=Load()),\n",
      "          Name(id='d', ctx=Load())]))],\n",
      "  type_ignores=[])\n"
     ]
    }
   ],
   "source": [
    "code = 'a < b > c > d'\n",
    "get_ast(code)"
   ]
  },
  {
   "cell_type": "code",
   "execution_count": null,
   "id": "8396cf8b",
   "metadata": {},
   "outputs": [],
   "source": []
  }
 ],
 "metadata": {
  "kernelspec": {
   "display_name": "Python 3 (ipykernel)",
   "language": "python",
   "name": "python3"
  },
  "language_info": {
   "codemirror_mode": {
    "name": "ipython",
    "version": 3
   },
   "file_extension": ".py",
   "mimetype": "text/x-python",
   "name": "python",
   "nbconvert_exporter": "python",
   "pygments_lexer": "ipython3",
   "version": "3.10.6"
  }
 },
 "nbformat": 4,
 "nbformat_minor": 5
}
