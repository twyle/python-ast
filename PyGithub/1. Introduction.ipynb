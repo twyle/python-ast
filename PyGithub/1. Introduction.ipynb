{
 "cells": [
  {
   "cell_type": "code",
   "execution_count": 2,
   "id": "a0450baa",
   "metadata": {},
   "outputs": [],
   "source": [
    "from github import Github"
   ]
  },
  {
   "cell_type": "code",
   "execution_count": 3,
   "id": "235206da",
   "metadata": {},
   "outputs": [],
   "source": [
    "github = Github()"
   ]
  },
  {
   "cell_type": "code",
   "execution_count": 5,
   "id": "f3c30e89",
   "metadata": {},
   "outputs": [],
   "source": [
    "username = 'twyle'\n",
    "user = github.get_user(username)"
   ]
  },
  {
   "cell_type": "code",
   "execution_count": 6,
   "id": "1d33f8ea",
   "metadata": {},
   "outputs": [
    {
     "name": "stdout",
     "output_type": "stream",
     "text": [
      "Repository(full_name=\"twyle/alx-higher_level_programming\")\n",
      "Repository(full_name=\"twyle/alx-low_level_programming\")\n",
      "Repository(full_name=\"twyle/alx-pre_course\")\n",
      "Repository(full_name=\"twyle/alx-system_engineering-devops\")\n",
      "Repository(full_name=\"twyle/alx-zero_day\")\n",
      "Repository(full_name=\"twyle/ansible_linux_filesystem_mgmt\")\n",
      "Repository(full_name=\"twyle/Application-Logger\")\n",
      "Repository(full_name=\"twyle/articles\")\n",
      "Repository(full_name=\"twyle/ayv\")\n",
      "Repository(full_name=\"twyle/code-scanner\")\n",
      "Repository(full_name=\"twyle/devops-directive-terraform-course\")\n",
      "Repository(full_name=\"twyle/docker-crawler\")\n",
      "Repository(full_name=\"twyle/E-commerce-Website\")\n",
      "Repository(full_name=\"twyle/elastic-search-tutorials\")\n",
      "Repository(full_name=\"twyle/flask-ec2-terraform-deployment\")\n",
      "Repository(full_name=\"twyle/flask-ecs\")\n",
      "Repository(full_name=\"twyle/flask-ek8\")\n",
      "Repository(full_name=\"twyle/flask-social-auth\")\n",
      "Repository(full_name=\"twyle/flask-tutorials\")\n",
      "Repository(full_name=\"twyle/flaskphoto\")\n",
      "Repository(full_name=\"twyle/flask_image\")\n",
      "Repository(full_name=\"twyle/front-end-service\")\n",
      "Repository(full_name=\"twyle/HackerRank-Solutions\")\n",
      "Repository(full_name=\"twyle/Home-Listing-Website\")\n",
      "Repository(full_name=\"twyle/jobzilla_ai\")\n",
      "Repository(full_name=\"twyle/landing-page\")\n",
      "Repository(full_name=\"twyle/leetcode-blind75\")\n",
      "Repository(full_name=\"twyle/lyle-portfolio\")\n",
      "Repository(full_name=\"twyle/Medium-Clone\")\n",
      "Repository(full_name=\"twyle/Medium-Clone-Blog-Service\")\n",
      "Repository(full_name=\"twyle/Medium-Clone-Email-Service\")\n",
      "Repository(full_name=\"twyle/Medium-Clone-Image-Processing-Service\")\n",
      "Repository(full_name=\"twyle/Medium-Clone-User-Management-Service\")\n",
      "Repository(full_name=\"twyle/monty\")\n",
      "Repository(full_name=\"twyle/notspot_sim_py\")\n",
      "Repository(full_name=\"twyle/offbrand-tutorial\")\n",
      "Repository(full_name=\"twyle/oryks-code-coverage\")\n",
      "Repository(full_name=\"twyle/oryks-systems\")\n",
      "Repository(full_name=\"twyle/photo-sharing-app\")\n",
      "Repository(full_name=\"twyle/photo-sharing-application\")\n",
      "Repository(full_name=\"twyle/portfolio\")\n",
      "Repository(full_name=\"twyle/portfolio-simple\")\n",
      "Repository(full_name=\"twyle/printf\")\n",
      "Repository(full_name=\"twyle/pygithub\")\n",
      "Repository(full_name=\"twyle/pysheeet\")\n",
      "Repository(full_name=\"twyle/Python\")\n",
      "Repository(full_name=\"twyle/python-ast\")\n",
      "Repository(full_name=\"twyle/python-design-patterns\")\n",
      "Repository(full_name=\"twyle/python-repo-uow\")\n",
      "Repository(full_name=\"twyle/pythontube\")\n",
      "Repository(full_name=\"twyle/quad-sdk\")\n",
      "Repository(full_name=\"twyle/resumematcher\")\n",
      "Repository(full_name=\"twyle/ros-robotics-companies\")\n",
      "Repository(full_name=\"twyle/ros_odrive\")\n",
      "Repository(full_name=\"twyle/scrapy\")\n",
      "Repository(full_name=\"twyle/Search-Service.\")\n",
      "Repository(full_name=\"twyle/SimpleScan\")\n",
      "Repository(full_name=\"twyle/stackoverflow\")\n",
      "Repository(full_name=\"twyle/terraform-aws-template\")\n",
      "Repository(full_name=\"twyle/terraform-ecs-flask\")\n",
      "Repository(full_name=\"twyle/text-analytics\")\n",
      "Repository(full_name=\"twyle/twyle\")\n",
      "Repository(full_name=\"twyle/User-Authentication-in-Flask\")\n",
      "Repository(full_name=\"twyle/user-management-service\")\n",
      "Repository(full_name=\"twyle/Video-Sharing-Website\")\n",
      "Repository(full_name=\"twyle/Web-Project-Templates\")\n",
      "Repository(full_name=\"twyle/web-scraping-data-pipeline\")\n",
      "Repository(full_name=\"twyle/web-tutorials\")\n",
      "Repository(full_name=\"twyle/youtube\")\n",
      "Repository(full_name=\"twyle/youtube-analyzer\")\n",
      "Repository(full_name=\"twyle/youtube-api-tutorials\")\n",
      "Repository(full_name=\"twyle/youtube-video-stats\")\n",
      "Repository(full_name=\"twyle/youtube-wrapper\")\n",
      "Repository(full_name=\"twyle/zero_day\")\n"
     ]
    }
   ],
   "source": [
    "user_repos = user.get_repos()\n",
    "for user_repo in user_repos:\n",
    "    print(user_repo)"
   ]
  },
  {
   "cell_type": "code",
   "execution_count": 7,
   "id": "c323f81a",
   "metadata": {},
   "outputs": [
    {
     "data": {
      "text/plain": [
       "Repository(full_name=\"twyle/youtube-video-stats\")"
      ]
     },
     "execution_count": 7,
     "metadata": {},
     "output_type": "execute_result"
    }
   ],
   "source": [
    "repo_name = 'twyle/youtube-video-stats'\n",
    "repo = github.get_repo(repo_name)\n",
    "repo"
   ]
  },
  {
   "cell_type": "code",
   "execution_count": 9,
   "id": "b72cc801",
   "metadata": {},
   "outputs": [
    {
     "name": "stdout",
     "output_type": "stream",
     "text": [
      "Issue(title=\"Testing the Feature Request Template.\", number=24)\n",
      "Issue(title=\"Testing the Bug Report Template\", number=22)\n"
     ]
    }
   ],
   "source": [
    "issues = repo.get_issues()\n",
    "for issue in issues:\n",
    "    print(issue)"
   ]
  },
  {
   "cell_type": "code",
   "execution_count": 10,
   "id": "d08b8e65",
   "metadata": {},
   "outputs": [
    {
     "data": {
      "text/plain": [
       "Issue(title=\"Testing the Feature Request Template.\", number=24)"
      ]
     },
     "execution_count": 10,
     "metadata": {},
     "output_type": "execute_result"
    }
   ],
   "source": [
    "issue = issues[0]\n",
    "issue"
   ]
  },
  {
   "cell_type": "code",
   "execution_count": 11,
   "id": "57e6b7b6",
   "metadata": {},
   "outputs": [
    {
     "data": {
      "text/plain": [
       "['CHECK_AFTER_INIT_FLAG',\n",
       " '_CompletableGithubObject__complete',\n",
       " '_CompletableGithubObject__completed',\n",
       " '_GithubObject__makeSimpleAttribute',\n",
       " '_GithubObject__makeSimpleListAttribute',\n",
       " '_GithubObject__makeTransformedAttribute',\n",
       " '__annotations__',\n",
       " '__class__',\n",
       " '__delattr__',\n",
       " '__dict__',\n",
       " '__dir__',\n",
       " '__doc__',\n",
       " '__eq__',\n",
       " '__format__',\n",
       " '__ge__',\n",
       " '__getattribute__',\n",
       " '__gt__',\n",
       " '__hash__',\n",
       " '__init__',\n",
       " '__init_subclass__',\n",
       " '__le__',\n",
       " '__lt__',\n",
       " '__module__',\n",
       " '__ne__',\n",
       " '__new__',\n",
       " '__reduce__',\n",
       " '__reduce_ex__',\n",
       " '__repr__',\n",
       " '__setattr__',\n",
       " '__sizeof__',\n",
       " '__str__',\n",
       " '__subclasshook__',\n",
       " '__weakref__',\n",
       " '_active_lock_reason',\n",
       " '_assignee',\n",
       " '_assignees',\n",
       " '_body',\n",
       " '_closed_at',\n",
       " '_closed_by',\n",
       " '_comments',\n",
       " '_comments_url',\n",
       " '_completeIfNeeded',\n",
       " '_completeIfNotSet',\n",
       " '_created_at',\n",
       " '_events_url',\n",
       " '_headers',\n",
       " '_html_url',\n",
       " '_id',\n",
       " '_identity',\n",
       " '_initAttributes',\n",
       " '_labels',\n",
       " '_labels_url',\n",
       " '_locked',\n",
       " '_makeBoolAttribute',\n",
       " '_makeClassAttribute',\n",
       " '_makeDatetimeAttribute',\n",
       " '_makeDictAttribute',\n",
       " '_makeDictOfStringsToClassesAttribute',\n",
       " '_makeFloatAttribute',\n",
       " '_makeIntAttribute',\n",
       " '_makeListOfClassesAttribute',\n",
       " '_makeListOfDictsAttribute',\n",
       " '_makeListOfIntsAttribute',\n",
       " '_makeListOfListOfStringsAttribute',\n",
       " '_makeListOfStringsAttribute',\n",
       " '_makeStringAttribute',\n",
       " '_makeTimestampAttribute',\n",
       " '_milestone',\n",
       " '_number',\n",
       " '_parentUrl',\n",
       " '_pull_request',\n",
       " '_rawData',\n",
       " '_repository',\n",
       " '_requester',\n",
       " '_state',\n",
       " '_state_reason',\n",
       " '_storeAndUseAttributes',\n",
       " '_title',\n",
       " '_updated_at',\n",
       " '_url',\n",
       " '_useAttributes',\n",
       " '_user',\n",
       " 'active_lock_reason',\n",
       " 'add_to_assignees',\n",
       " 'add_to_labels',\n",
       " 'as_pull_request',\n",
       " 'assignee',\n",
       " 'assignees',\n",
       " 'body',\n",
       " 'closed_at',\n",
       " 'closed_by',\n",
       " 'comments',\n",
       " 'comments_url',\n",
       " 'create_comment',\n",
       " 'create_reaction',\n",
       " 'created_at',\n",
       " 'delete_labels',\n",
       " 'delete_reaction',\n",
       " 'edit',\n",
       " 'etag',\n",
       " 'events_url',\n",
       " 'get__repr__',\n",
       " 'get_comment',\n",
       " 'get_comments',\n",
       " 'get_events',\n",
       " 'get_labels',\n",
       " 'get_reactions',\n",
       " 'get_timeline',\n",
       " 'html_url',\n",
       " 'id',\n",
       " 'labels',\n",
       " 'labels_url',\n",
       " 'last_modified',\n",
       " 'lock',\n",
       " 'locked',\n",
       " 'milestone',\n",
       " 'number',\n",
       " 'pull_request',\n",
       " 'raw_data',\n",
       " 'raw_headers',\n",
       " 'remove_from_assignees',\n",
       " 'remove_from_labels',\n",
       " 'repository',\n",
       " 'setCheckAfterInitFlag',\n",
       " 'set_labels',\n",
       " 'state',\n",
       " 'state_reason',\n",
       " 'title',\n",
       " 'unlock',\n",
       " 'update',\n",
       " 'updated_at',\n",
       " 'url',\n",
       " 'user']"
      ]
     },
     "execution_count": 11,
     "metadata": {},
     "output_type": "execute_result"
    }
   ],
   "source": [
    "dir(issue)"
   ]
  },
  {
   "cell_type": "code",
   "execution_count": 13,
   "id": "0df26261",
   "metadata": {},
   "outputs": [
    {
     "name": "stdout",
     "output_type": "stream",
     "text": [
      "Label(name=\"enhancement\")\n"
     ]
    }
   ],
   "source": [
    "labels = issue.get_labels()\n",
    "for label in labels:\n",
    "    print(label)"
   ]
  },
  {
   "cell_type": "code",
   "execution_count": null,
   "id": "606ed079",
   "metadata": {},
   "outputs": [],
   "source": []
  }
 ],
 "metadata": {
  "kernelspec": {
   "display_name": "Python 3 (ipykernel)",
   "language": "python",
   "name": "python3"
  },
  "language_info": {
   "codemirror_mode": {
    "name": "ipython",
    "version": 3
   },
   "file_extension": ".py",
   "mimetype": "text/x-python",
   "name": "python",
   "nbconvert_exporter": "python",
   "pygments_lexer": "ipython3",
   "version": "3.10.6"
  }
 },
 "nbformat": 4,
 "nbformat_minor": 5
}
