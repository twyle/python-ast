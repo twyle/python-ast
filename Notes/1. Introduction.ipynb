{
 "cells": [
  {
   "cell_type": "code",
   "execution_count": null,
   "id": "5dc2ffe7",
   "metadata": {},
   "outputs": [],
   "source": [
    "'''\n",
    "What do we analyze about a personal repo?\n",
    "What do we want to know about someone?\n",
    "    1. Are they junior, intermediate or senior?\n",
    "    2. What language do they use?\n",
    "    3. What frameworks do they use?\n",
    "    4. What libraries do they use?\n",
    "    5. What is their coding style?\n",
    "        1. Do they comment?\n",
    "        2. What do their commit messages look like?\n",
    "    6. What is their coding time? Regurlaly, weekday, weekends?\n",
    "    7. Do they work on opensource?\n",
    "    8. What features of github do they use?\n",
    "    9. have their code been flagged? For security\n",
    "    10. Do they do reviews?\n",
    "    11. What platforms do they use? AWS, \n",
    "    12. What products do they use? Terraform, Postgres\n",
    "    13. Do they include README's, How to Contribute\n",
    "'''"
   ]
  }
 ],
 "metadata": {
  "kernelspec": {
   "display_name": "Python 3 (ipykernel)",
   "language": "python",
   "name": "python3"
  },
  "language_info": {
   "codemirror_mode": {
    "name": "ipython",
    "version": 3
   },
   "file_extension": ".py",
   "mimetype": "text/x-python",
   "name": "python",
   "nbconvert_exporter": "python",
   "pygments_lexer": "ipython3",
   "version": "3.10.6"
  }
 },
 "nbformat": 4,
 "nbformat_minor": 5
}
